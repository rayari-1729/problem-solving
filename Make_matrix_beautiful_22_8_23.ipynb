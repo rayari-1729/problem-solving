{
 "cells": [
  {
   "cell_type": "markdown",
   "id": "58a88cfc",
   "metadata": {},
   "source": [
    "A beautiful matrix is a matrix in which the sum of elements in each row and column is equal. Given a square matrix of size NxN. Find the minimum number of operation(s) that are required to make the matrix beautiful. In one operation you can increment the value of any one cell by 1.\n",
    "\n",
    "**Example 1:**\n",
    "      \n",
    "        Input:\n",
    "            N = 2\n",
    "            matrix = [[1, 2],\n",
    "                      [3, 4]]\n",
    "        Output: \n",
    "            4\n",
    "        Explanation:\n",
    "            Updated matrix:\n",
    "            4 3\n",
    "            3 4\n",
    "            1. Increment value of cell(0, 0) by 3\n",
    "            2. Increment value of cell(0, 1) by 1\n",
    "            Hence total 4 operation are required."
   ]
  },
  {
   "cell_type": "code",
   "execution_count": 1,
   "id": "14e70bf4",
   "metadata": {},
   "outputs": [
    {
     "name": "stdout",
     "output_type": "stream",
     "text": [
      "max sum is :26\n",
      "14\n",
      "14\n",
      "14\n",
      "14\n",
      "19\n",
      "22\n",
      "22\n",
      "22\n",
      "22\n",
      "33\n",
      "35\n",
      "35\n",
      "35\n",
      "35\n",
      "40\n",
      "40\n"
     ]
    }
   ],
   "source": [
    "# N = 3\n",
    "# matrix = [[1, 2, 3],\n",
    "#           [4, 2, 3],\n",
    "#           [3, 2, 1]]\n",
    "N = 4\n",
    "matrix = [[1, 2, 4, 5],\n",
    "          [3, 4, 5, 6],\n",
    "          [1 ,2, 4 ,6],\n",
    "          [2, 4, 6, 9]]\n",
    "row_sum = []\n",
    "col_sum = []\n",
    "for i in range(N):\n",
    "    add_r = 0\n",
    "    add_c = 0\n",
    "    for j in range(N):\n",
    "        add_r += matrix[i][j]\n",
    "        add_c += matrix[j][i]\n",
    "    row_sum.append(add_r)\n",
    "    col_sum.append(add_c)\n",
    "max_v = max(max(row_sum),max(col_sum))\n",
    "print(f'max sum is :{max_v}')\n",
    "#Taking the difference  \n",
    "# row_diff = []\n",
    "# col_diff = []\n",
    "count = 0\n",
    "for i in range(N):\n",
    "    for j in range(N):\n",
    "        diff_r = max_v-row_sum[i]\n",
    "        diff_c = max_v-col_sum[j] \n",
    "        min_v = min(diff_r,diff_c)\n",
    "#         row_diff.append(diff_r)\n",
    "#         col_diff.append(diff_c)\n",
    "        matrix[i][j] += min_v\n",
    "        row_sum[i] +=min_v\n",
    "        col_sum[j] += min_v\n",
    "        count += min_v \n",
    "        print(count)"
   ]
  },
  {
   "cell_type": "code",
   "execution_count": null,
   "id": "89377954",
   "metadata": {},
   "outputs": [],
   "source": []
  }
 ],
 "metadata": {
  "kernelspec": {
   "display_name": "Python 3 (ipykernel)",
   "language": "python",
   "name": "python3"
  },
  "language_info": {
   "codemirror_mode": {
    "name": "ipython",
    "version": 3
   },
   "file_extension": ".py",
   "mimetype": "text/x-python",
   "name": "python",
   "nbconvert_exporter": "python",
   "pygments_lexer": "ipython3",
   "version": "3.11.3"
  }
 },
 "nbformat": 4,
 "nbformat_minor": 5
}
