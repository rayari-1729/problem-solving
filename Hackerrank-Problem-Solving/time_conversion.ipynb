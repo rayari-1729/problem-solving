{
  "nbformat": 4,
  "nbformat_minor": 0,
  "metadata": {
    "colab": {
      "provenance": []
    },
    "kernelspec": {
      "name": "python3",
      "display_name": "Python 3"
    },
    "language_info": {
      "name": "python"
    }
  },
  "cells": [
    {
      "cell_type": "markdown",
      "source": [
        "## <font color='blue'> Time Conversion Problem</font>\n",
        "\n",
        "**Given a time in -hour AM/PM format, convert it to military (24-hour) time.**\n",
        "\n",
        "Note:\n",
        "- 12:00:00AM on a 12-hour clock is 00:00:00 on a 24-hour clock.\n",
        "- 12:00:00PM on a 12-hour clock is 12:00:00 on a 24-hour clock."
      ],
      "metadata": {
        "id": "nlZxhnrWuhbE"
      }
    },
    {
      "cell_type": "code",
      "source": [
        "#!/bin/python3\n",
        "\n",
        "import math\n",
        "import os\n",
        "import random\n",
        "import re\n",
        "import sys\n",
        "\n",
        "#\n",
        "# Complete the 'timeConversion' function below.\n",
        "#\n",
        "# The function is expected to return a STRING.\n",
        "# The function accepts STRING s as parameter.\n",
        "#\n",
        "\n",
        "def timeConversion(s):\n",
        " # Get hours\n",
        "    if s[-2:] == \"AM\" and s[:2] == \"12\": \n",
        "        return \"00\" + s[2:-2] \n",
        "    elif s[-2:] == \"AM\": \n",
        "        return s[:-2]\n",
        "    elif s[-2:] == \"PM\" and s[:2] == \"12\": \n",
        "        return s[:-2] \n",
        "    else:\n",
        "       ans = int(s[:2]) + 12\n",
        "       return str(str(ans) + s[2:8])\n",
        "if __name__ == '__main__':\n",
        "    fptr = open(os.environ['OUTPUT_PATH'], 'w')\n",
        "\n",
        "    s = input()\n",
        "\n",
        "    result = timeConversion(s)\n",
        "\n",
        "    fptr.write(result + '\\n')\n",
        "\n",
        "    fptr.close()\n",
        "\n"
      ],
      "metadata": {
        "id": "u1-6YrUQwAE5"
      },
      "execution_count": 9,
      "outputs": []
    }
  ]
}